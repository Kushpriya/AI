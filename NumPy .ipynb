{
 "cells": [
  {
   "cell_type": "markdown",
   "id": "b936024e",
   "metadata": {},
   "source": [
    "# Single dimension NumPy Array"
   ]
  },
  {
   "cell_type": "code",
   "execution_count": 2,
   "id": "eba8dd4e",
   "metadata": {},
   "outputs": [
    {
     "data": {
      "text/plain": [
       "array([10, 20, 30, 40])"
      ]
     },
     "execution_count": 2,
     "metadata": {},
     "output_type": "execute_result"
    }
   ],
   "source": [
    "import numpy as np\n",
    "n1=np.array([10,20,30,40])\n",
    "n1"
   ]
  },
  {
   "cell_type": "code",
   "execution_count": 2,
   "id": "e09bb579",
   "metadata": {},
   "outputs": [
    {
     "data": {
      "text/plain": [
       "numpy.ndarray"
      ]
     },
     "execution_count": 2,
     "metadata": {},
     "output_type": "execute_result"
    }
   ],
   "source": [
    "type(n1)"
   ]
  },
  {
   "cell_type": "markdown",
   "id": "4cb3a467",
   "metadata": {},
   "source": [
    "# MultiDimension NumPy array"
   ]
  },
  {
   "cell_type": "code",
   "execution_count": 3,
   "id": "d423cc35",
   "metadata": {},
   "outputs": [
    {
     "data": {
      "text/plain": [
       "array([[10, 20, 30, 40],\n",
       "       [10, 80, 90, 20],\n",
       "       [30, 50, 80, 40],\n",
       "       [ 1,  2,  3,  4],\n",
       "       [ 5,  6,  7,  8]])"
      ]
     },
     "execution_count": 3,
     "metadata": {},
     "output_type": "execute_result"
    }
   ],
   "source": [
    "import numpy as np\n",
    "n2=np.array([[10,20,30,40],[10,80,90,20],[30,50,80,40],[1,2,3,4],[5,6,7,8]])\n",
    "n2\n"
   ]
  },
  {
   "cell_type": "markdown",
   "id": "15895815",
   "metadata": {},
   "source": [
    "# initilize NumPy array with zeros"
   ]
  },
  {
   "cell_type": "code",
   "execution_count": 4,
   "id": "3e662e3a",
   "metadata": {},
   "outputs": [],
   "source": [
    "n3=np.zeros((4,5))"
   ]
  },
  {
   "cell_type": "code",
   "execution_count": 5,
   "id": "2b880fc7",
   "metadata": {},
   "outputs": [
    {
     "data": {
      "text/plain": [
       "array([[0., 0., 0., 0., 0.],\n",
       "       [0., 0., 0., 0., 0.],\n",
       "       [0., 0., 0., 0., 0.],\n",
       "       [0., 0., 0., 0., 0.]])"
      ]
     },
     "execution_count": 5,
     "metadata": {},
     "output_type": "execute_result"
    }
   ],
   "source": [
    "n3"
   ]
  },
  {
   "cell_type": "markdown",
   "id": "c1ed1b69",
   "metadata": {},
   "source": [
    "# initilization a array of matrix with full then "
   ]
  },
  {
   "cell_type": "code",
   "execution_count": 6,
   "id": "baf5cce4",
   "metadata": {},
   "outputs": [],
   "source": [
    "n4=np.full((3,3),10)"
   ]
  },
  {
   "cell_type": "code",
   "execution_count": 7,
   "id": "8b47ecb9",
   "metadata": {},
   "outputs": [
    {
     "data": {
      "text/plain": [
       "array([[10, 10, 10],\n",
       "       [10, 10, 10],\n",
       "       [10, 10, 10]])"
      ]
     },
     "execution_count": 7,
     "metadata": {},
     "output_type": "execute_result"
    }
   ],
   "source": [
    "n4"
   ]
  },
  {
   "cell_type": "markdown",
   "id": "b61ec8d1",
   "metadata": {},
   "source": [
    "# initilization of NumPy array within a range."
   ]
  },
  {
   "cell_type": "code",
   "execution_count": 8,
   "id": "3e4eef30",
   "metadata": {},
   "outputs": [],
   "source": [
    "n5=np.arange(10,30)"
   ]
  },
  {
   "cell_type": "code",
   "execution_count": 9,
   "id": "b78e90ff",
   "metadata": {},
   "outputs": [
    {
     "data": {
      "text/plain": [
       "array([10, 11, 12, 13, 14, 15, 16, 17, 18, 19, 20, 21, 22, 23, 24, 25, 26,\n",
       "       27, 28, 29])"
      ]
     },
     "execution_count": 9,
     "metadata": {},
     "output_type": "execute_result"
    }
   ],
   "source": [
    "n5"
   ]
  },
  {
   "cell_type": "markdown",
   "id": "2591fd8e",
   "metadata": {},
   "source": [
    "# initilization of the NumPy array with the skip numbers\n"
   ]
  },
  {
   "cell_type": "code",
   "execution_count": 12,
   "id": "3e2f6fb7",
   "metadata": {},
   "outputs": [],
   "source": [
    "n6=np.arange(1,20,3)"
   ]
  },
  {
   "cell_type": "code",
   "execution_count": 13,
   "id": "d1edcddb",
   "metadata": {},
   "outputs": [
    {
     "data": {
      "text/plain": [
       "array([ 1,  4,  7, 10, 13, 16, 19])"
      ]
     },
     "execution_count": 13,
     "metadata": {},
     "output_type": "execute_result"
    }
   ],
   "source": [
    "n6"
   ]
  },
  {
   "cell_type": "markdown",
   "id": "3910fab1",
   "metadata": {},
   "source": [
    "# initilization NumPy array with the random numbers\n"
   ]
  },
  {
   "cell_type": "code",
   "execution_count": 14,
   "id": "609730fe",
   "metadata": {},
   "outputs": [],
   "source": [
    "n7=np.random.randint(100000,1000000,1)"
   ]
  },
  {
   "cell_type": "code",
   "execution_count": 15,
   "id": "f6eef71e",
   "metadata": {},
   "outputs": [
    {
     "data": {
      "text/plain": [
       "array([192781])"
      ]
     },
     "execution_count": 15,
     "metadata": {},
     "output_type": "execute_result"
    }
   ],
   "source": [
    "n7"
   ]
  },
  {
   "cell_type": "markdown",
   "id": "7372ab53",
   "metadata": {},
   "source": [
    "# initilization the array shape changes in a fraction of seconds."
   ]
  },
  {
   "cell_type": "code",
   "execution_count": 14,
   "id": "c02065b3",
   "metadata": {},
   "outputs": [],
   "source": [
    "n8=np.array([[10,20,30],[10,80,90],[30,50,80],[30,50,80]])"
   ]
  },
  {
   "cell_type": "code",
   "execution_count": 15,
   "id": "7562cf80",
   "metadata": {},
   "outputs": [
    {
     "data": {
      "text/plain": [
       "array([[10, 20, 30],\n",
       "       [10, 80, 90],\n",
       "       [30, 50, 80],\n",
       "       [30, 50, 80]])"
      ]
     },
     "execution_count": 15,
     "metadata": {},
     "output_type": "execute_result"
    }
   ],
   "source": [
    "n8"
   ]
  },
  {
   "cell_type": "code",
   "execution_count": 16,
   "id": "bd6a3c52",
   "metadata": {},
   "outputs": [
    {
     "data": {
      "text/plain": [
       "(4, 3)"
      ]
     },
     "execution_count": 16,
     "metadata": {},
     "output_type": "execute_result"
    }
   ],
   "source": [
    "n8.shape"
   ]
  },
  {
   "cell_type": "code",
   "execution_count": 17,
   "id": "3b0ab72b",
   "metadata": {},
   "outputs": [],
   "source": [
    "n8.shape=(3,4)"
   ]
  },
  {
   "cell_type": "code",
   "execution_count": 18,
   "id": "8d7cf9dd",
   "metadata": {
    "scrolled": true
   },
   "outputs": [
    {
     "data": {
      "text/plain": [
       "array([[10, 20, 30, 10],\n",
       "       [80, 90, 30, 50],\n",
       "       [80, 30, 50, 80]])"
      ]
     },
     "execution_count": 18,
     "metadata": {},
     "output_type": "execute_result"
    }
   ],
   "source": [
    "n8"
   ]
  },
  {
   "cell_type": "markdown",
   "id": "8e4397b8",
   "metadata": {},
   "source": [
    "# joining NumPy array"
   ]
  },
  {
   "cell_type": "code",
   "execution_count": 19,
   "id": "dd780dde",
   "metadata": {},
   "outputs": [],
   "source": [
    "import numpy as np"
   ]
  },
  {
   "cell_type": "code",
   "execution_count": 20,
   "id": "77cd718a",
   "metadata": {},
   "outputs": [],
   "source": [
    "a=np.array([10,20,30])\n",
    "b=np.array([30,50,90])"
   ]
  },
  {
   "cell_type": "code",
   "execution_count": 21,
   "id": "870003a6",
   "metadata": {},
   "outputs": [
    {
     "data": {
      "text/plain": [
       "array([[10, 20, 30],\n",
       "       [30, 50, 90]])"
      ]
     },
     "execution_count": 21,
     "metadata": {},
     "output_type": "execute_result"
    }
   ],
   "source": [
    "np.vstack((a,b))  #joining the numpy as vertical stacking "
   ]
  },
  {
   "cell_type": "code",
   "execution_count": 22,
   "id": "67235263",
   "metadata": {},
   "outputs": [
    {
     "data": {
      "text/plain": [
       "array([10, 20, 30, 30, 50, 90])"
      ]
     },
     "execution_count": 22,
     "metadata": {},
     "output_type": "execute_result"
    }
   ],
   "source": [
    "np.hstack((a,b)) #joining numpy as horizontal stacking "
   ]
  },
  {
   "cell_type": "code",
   "execution_count": 23,
   "id": "28a65560",
   "metadata": {},
   "outputs": [
    {
     "data": {
      "text/plain": [
       "array([[10, 30],\n",
       "       [20, 50],\n",
       "       [30, 90]])"
      ]
     },
     "execution_count": 23,
     "metadata": {},
     "output_type": "execute_result"
    }
   ],
   "source": [
    "np.column_stack((a,b)) #joining numpy as column stacking"
   ]
  },
  {
   "cell_type": "markdown",
   "id": "b62e5a37",
   "metadata": {},
   "source": [
    "# NumPy intersection and difference"
   ]
  },
  {
   "cell_type": "code",
   "execution_count": 24,
   "id": "33e765fd",
   "metadata": {},
   "outputs": [],
   "source": [
    "import numpy as np"
   ]
  },
  {
   "cell_type": "code",
   "execution_count": 25,
   "id": "870948c0",
   "metadata": {},
   "outputs": [],
   "source": [
    "x=np.array([10,20,30,40,50,60])"
   ]
  },
  {
   "cell_type": "code",
   "execution_count": 26,
   "id": "dcf6a565",
   "metadata": {},
   "outputs": [],
   "source": [
    "y=np.array([30,50,90,100,120,150])"
   ]
  },
  {
   "cell_type": "code",
   "execution_count": 27,
   "id": "aaab9509",
   "metadata": {},
   "outputs": [
    {
     "data": {
      "text/plain": [
       "array([30, 50])"
      ]
     },
     "execution_count": 27,
     "metadata": {},
     "output_type": "execute_result"
    }
   ],
   "source": [
    "np.intersect1d(x,y)"
   ]
  },
  {
   "cell_type": "code",
   "execution_count": 28,
   "id": "461c0142",
   "metadata": {},
   "outputs": [
    {
     "data": {
      "text/plain": [
       "array([10, 20, 40, 60])"
      ]
     },
     "execution_count": 28,
     "metadata": {},
     "output_type": "execute_result"
    }
   ],
   "source": [
    "np.setdiff1d(x,y)"
   ]
  },
  {
   "cell_type": "markdown",
   "id": "3b331a15",
   "metadata": {},
   "source": [
    "# Addition of NumPy Arrays"
   ]
  },
  {
   "cell_type": "code",
   "execution_count": 29,
   "id": "b43d7a47",
   "metadata": {},
   "outputs": [],
   "source": [
    "import numpy as np"
   ]
  },
  {
   "cell_type": "code",
   "execution_count": 30,
   "id": "b5b1f07c",
   "metadata": {},
   "outputs": [],
   "source": [
    "t=np.array([10,20])\n",
    "s=np.array([30,40])"
   ]
  },
  {
   "cell_type": "code",
   "execution_count": 31,
   "id": "60a3cfa1",
   "metadata": {},
   "outputs": [
    {
     "data": {
      "text/plain": [
       "100"
      ]
     },
     "execution_count": 31,
     "metadata": {},
     "output_type": "execute_result"
    }
   ],
   "source": [
    "np.sum([t,s])"
   ]
  },
  {
   "cell_type": "code",
   "execution_count": 32,
   "id": "df083f57",
   "metadata": {},
   "outputs": [
    {
     "data": {
      "text/plain": [
       "array([40, 60])"
      ]
     },
     "execution_count": 32,
     "metadata": {},
     "output_type": "execute_result"
    }
   ],
   "source": [
    "np.sum([t,s],axis=0)"
   ]
  },
  {
   "cell_type": "code",
   "execution_count": 33,
   "id": "2a8209cf",
   "metadata": {},
   "outputs": [
    {
     "data": {
      "text/plain": [
       "array([30, 70])"
      ]
     },
     "execution_count": 33,
     "metadata": {},
     "output_type": "execute_result"
    }
   ],
   "source": [
    "np.sum([t,s],axis=1)"
   ]
  },
  {
   "cell_type": "markdown",
   "id": "9af55d00",
   "metadata": {},
   "source": [
    "# NumPy array mathematics\n"
   ]
  },
  {
   "cell_type": "code",
   "execution_count": 34,
   "id": "39c10ccf",
   "metadata": {},
   "outputs": [],
   "source": [
    "p=np.array([10,20,30])"
   ]
  },
  {
   "cell_type": "code",
   "execution_count": 35,
   "id": "ddc3f5b3",
   "metadata": {},
   "outputs": [
    {
     "data": {
      "text/plain": [
       "array([11, 21, 31])"
      ]
     },
     "execution_count": 35,
     "metadata": {},
     "output_type": "execute_result"
    }
   ],
   "source": [
    "p+1"
   ]
  },
  {
   "cell_type": "code",
   "execution_count": 36,
   "id": "cbcdf042",
   "metadata": {},
   "outputs": [
    {
     "data": {
      "text/plain": [
       "array([ 5., 10., 15.])"
      ]
     },
     "execution_count": 36,
     "metadata": {},
     "output_type": "execute_result"
    }
   ],
   "source": [
    "p/2"
   ]
  },
  {
   "cell_type": "code",
   "execution_count": 37,
   "id": "709c113a",
   "metadata": {},
   "outputs": [
    {
     "data": {
      "text/plain": [
       "array([20, 40, 60])"
      ]
     },
     "execution_count": 37,
     "metadata": {},
     "output_type": "execute_result"
    }
   ],
   "source": [
    "p*2"
   ]
  },
  {
   "cell_type": "code",
   "execution_count": 38,
   "id": "065271c3",
   "metadata": {},
   "outputs": [
    {
     "data": {
      "text/plain": [
       "array([ 8, 18, 28])"
      ]
     },
     "execution_count": 38,
     "metadata": {},
     "output_type": "execute_result"
    }
   ],
   "source": [
    "p-2"
   ]
  },
  {
   "cell_type": "markdown",
   "id": "af29ce96",
   "metadata": {},
   "source": [
    "# Numpy maths functions"
   ]
  },
  {
   "cell_type": "code",
   "execution_count": 39,
   "id": "aac87813",
   "metadata": {},
   "outputs": [],
   "source": [
    "import numpy as np\n",
    "nn=np.array([10,20,30,60])"
   ]
  },
  {
   "cell_type": "code",
   "execution_count": 40,
   "id": "22c899ad",
   "metadata": {},
   "outputs": [
    {
     "data": {
      "text/plain": [
       "30.0"
      ]
     },
     "execution_count": 40,
     "metadata": {},
     "output_type": "execute_result"
    }
   ],
   "source": [
    "np.mean(nn)"
   ]
  },
  {
   "cell_type": "code",
   "execution_count": 41,
   "id": "a65e8aca",
   "metadata": {},
   "outputs": [
    {
     "data": {
      "text/plain": [
       "18.708286933869708"
      ]
     },
     "execution_count": 41,
     "metadata": {},
     "output_type": "execute_result"
    }
   ],
   "source": [
    "np.std(nn)"
   ]
  },
  {
   "cell_type": "code",
   "execution_count": 42,
   "id": "ea62cfed",
   "metadata": {},
   "outputs": [
    {
     "data": {
      "text/plain": [
       "25.0"
      ]
     },
     "execution_count": 42,
     "metadata": {},
     "output_type": "execute_result"
    }
   ],
   "source": [
    "np.median(nn)"
   ]
  },
  {
   "cell_type": "markdown",
   "id": "84f9e289",
   "metadata": {},
   "source": [
    "# saving and loading NumPy array"
   ]
  },
  {
   "cell_type": "code",
   "execution_count": 43,
   "id": "e1740b45",
   "metadata": {},
   "outputs": [],
   "source": [
    "import numpy as np"
   ]
  },
  {
   "cell_type": "code",
   "execution_count": 44,
   "id": "51b84ec4",
   "metadata": {},
   "outputs": [],
   "source": [
    "n11=np.array([10,20,30,40,50])"
   ]
  },
  {
   "cell_type": "code",
   "execution_count": 45,
   "id": "3cc6bacd",
   "metadata": {},
   "outputs": [],
   "source": [
    "np.save('my_name',n11) #saving the numpy array"
   ]
  },
  {
   "cell_type": "code",
   "execution_count": 46,
   "id": "fac1c7df",
   "metadata": {},
   "outputs": [
    {
     "data": {
      "text/plain": [
       "array([10, 20, 30, 40, 50])"
      ]
     },
     "execution_count": 46,
     "metadata": {},
     "output_type": "execute_result"
    }
   ],
   "source": [
    "np.load('my_name.npy') #loading the NumPy array."
   ]
  }
 ],
 "metadata": {
  "kernelspec": {
   "display_name": "Python 3 (ipykernel)",
   "language": "python",
   "name": "python3"
  },
  "language_info": {
   "codemirror_mode": {
    "name": "ipython",
    "version": 3
   },
   "file_extension": ".py",
   "mimetype": "text/x-python",
   "name": "python",
   "nbconvert_exporter": "python",
   "pygments_lexer": "ipython3",
   "version": "3.11.5"
  }
 },
 "nbformat": 4,
 "nbformat_minor": 5
}
