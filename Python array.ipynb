{
 "cells": [
  {
   "cell_type": "code",
   "execution_count": 2,
   "id": "d88560c3",
   "metadata": {},
   "outputs": [],
   "source": [
    "import numpy as np\n",
    "n1=np.array([10,20,30,40])\n"
   ]
  },
  {
   "cell_type": "code",
   "execution_count": 5,
   "id": "0a60a56b",
   "metadata": {},
   "outputs": [
    {
     "data": {
      "text/plain": [
       "array([[10, 20, 30],\n",
       "       [10, 80, 90],\n",
       "       [30, 50, 80]])"
      ]
     },
     "execution_count": 5,
     "metadata": {},
     "output_type": "execute_result"
    }
   ],
   "source": [
    "import numpy as np\n",
    "n2=np.array([[10,20,30],[10,80,90],[30,50,80]])\n",
    "n2"
   ]
  },
  {
   "cell_type": "code",
   "execution_count": 8,
   "id": "d004de8e",
   "metadata": {},
   "outputs": [
    {
     "data": {
      "text/plain": [
       "array([[2, 3, 4, 5, 8],\n",
       "       [5, 6, 7, 8, 4],\n",
       "       [9, 4, 6, 8, 4],\n",
       "       [1, 2, 3, 4, 7]])"
      ]
     },
     "execution_count": 8,
     "metadata": {},
     "output_type": "execute_result"
    }
   ],
   "source": [
    "import numpy as np\n",
    "n3=np.array([[2,3,4,5,8],[5,6,7,8,4],[9,4,6,8,4],[1,2,3,4,7]])\n",
    "n3"
   ]
  },
  {
   "cell_type": "code",
   "execution_count": 11,
   "id": "23168e9b",
   "metadata": {},
   "outputs": [
    {
     "data": {
      "text/plain": [
       "array([[0., 0., 0., 0., 0.],\n",
       "       [0., 0., 0., 0., 0.],\n",
       "       [0., 0., 0., 0., 0.],\n",
       "       [0., 0., 0., 0., 0.]])"
      ]
     },
     "execution_count": 11,
     "metadata": {},
     "output_type": "execute_result"
    }
   ],
   "source": [
    "n3=np.zeros((4,5))\n",
    "n3"
   ]
  },
  {
   "cell_type": "code",
   "execution_count": 13,
   "id": "3e53198e",
   "metadata": {},
   "outputs": [
    {
     "data": {
      "text/plain": [
       "array([[9, 9, 9],\n",
       "       [9, 9, 9],\n",
       "       [9, 9, 9]])"
      ]
     },
     "execution_count": 13,
     "metadata": {},
     "output_type": "execute_result"
    }
   ],
   "source": [
    "n4=np.full((3,3),9)\n",
    "n4"
   ]
  },
  {
   "cell_type": "code",
   "execution_count": 15,
   "id": "6c0e2b05",
   "metadata": {},
   "outputs": [
    {
     "data": {
      "text/plain": [
       "array([10, 11, 12, 13, 14, 15, 16, 17, 18, 19, 20, 21, 22, 23, 24, 25, 26,\n",
       "       27, 28, 29, 30, 31, 32, 33, 34, 35, 36, 37, 38, 39])"
      ]
     },
     "execution_count": 15,
     "metadata": {},
     "output_type": "execute_result"
    }
   ],
   "source": [
    "n5=np.arange(10,40)\n",
    "n5"
   ]
  },
  {
   "cell_type": "code",
   "execution_count": 17,
   "id": "97b8218b",
   "metadata": {},
   "outputs": [
    {
     "data": {
      "text/plain": [
       "array([ 1,  3,  5,  7,  9, 11, 13, 15, 17, 19, 21, 23, 25, 27, 29, 31, 33,\n",
       "       35, 37, 39, 41, 43, 45, 47, 49, 51, 53, 55, 57, 59, 61, 63, 65, 67,\n",
       "       69, 71, 73, 75, 77, 79, 81, 83, 85, 87, 89, 91, 93, 95, 97, 99])"
      ]
     },
     "execution_count": 17,
     "metadata": {},
     "output_type": "execute_result"
    }
   ],
   "source": [
    "n6=np.arange(1,100,2)\n",
    "n6"
   ]
  },
  {
   "cell_type": "code",
   "execution_count": 23,
   "id": "dbf6c156",
   "metadata": {},
   "outputs": [
    {
     "data": {
      "text/plain": [
       "array([10856,  4227, 14386,  9542,  7215])"
      ]
     },
     "execution_count": 23,
     "metadata": {},
     "output_type": "execute_result"
    }
   ],
   "source": [
    "n7=np.random.randint(1000,20000,5)\n",
    "n7"
   ]
  },
  {
   "cell_type": "code",
   "execution_count": 32,
   "id": "1733a4a1",
   "metadata": {},
   "outputs": [
    {
     "data": {
      "text/plain": [
       "array([[2, 3, 4, 5, 8],\n",
       "       [5, 6, 7, 8, 4],\n",
       "       [9, 4, 6, 8, 4],\n",
       "       [1, 2, 3, 4, 7]])"
      ]
     },
     "execution_count": 32,
     "metadata": {},
     "output_type": "execute_result"
    }
   ],
   "source": [
    "n8=np.array([[2,3,4,5,8],[5,6,7,8,4],[9,4,6,8,4],[1,2,3,4,7]])\n",
    "n8"
   ]
  },
  {
   "cell_type": "code",
   "execution_count": 33,
   "id": "6b423fd2",
   "metadata": {},
   "outputs": [
    {
     "data": {
      "text/plain": [
       "(4, 5)"
      ]
     },
     "execution_count": 33,
     "metadata": {},
     "output_type": "execute_result"
    }
   ],
   "source": [
    "n8.shape"
   ]
  },
  {
   "cell_type": "code",
   "execution_count": 34,
   "id": "f47e913f",
   "metadata": {},
   "outputs": [
    {
     "data": {
      "text/plain": [
       "array([[2, 3, 4, 5],\n",
       "       [8, 5, 6, 7],\n",
       "       [8, 4, 9, 4],\n",
       "       [6, 8, 4, 1],\n",
       "       [2, 3, 4, 7]])"
      ]
     },
     "execution_count": 34,
     "metadata": {},
     "output_type": "execute_result"
    }
   ],
   "source": [
    "n8.shape=(5,4)\n",
    "n8"
   ]
  },
  {
   "cell_type": "code",
   "execution_count": 35,
   "id": "734ef4b2",
   "metadata": {},
   "outputs": [],
   "source": [
    "import numpy as np"
   ]
  },
  {
   "cell_type": "code",
   "execution_count": 36,
   "id": "b65ba713",
   "metadata": {},
   "outputs": [],
   "source": [
    "a=np.array([10,20,30])\n",
    "b=np.array([30,50,90])"
   ]
  },
  {
   "cell_type": "code",
   "execution_count": 37,
   "id": "43ea7a82",
   "metadata": {},
   "outputs": [
    {
     "data": {
      "text/plain": [
       "array([[10, 20, 30],\n",
       "       [30, 50, 90]])"
      ]
     },
     "execution_count": 37,
     "metadata": {},
     "output_type": "execute_result"
    }
   ],
   "source": [
    "np.vstack((a,b))  \n",
    "#joining the numpy as vertical stacking"
   ]
  },
  {
   "cell_type": "code",
   "execution_count": 38,
   "id": "c13e551f",
   "metadata": {},
   "outputs": [
    {
     "data": {
      "text/plain": [
       "array([10, 20, 30, 30, 50, 90])"
      ]
     },
     "execution_count": 38,
     "metadata": {},
     "output_type": "execute_result"
    }
   ],
   "source": [
    "np.hstack((a,b)) \n",
    "#joining numpy as horizontal stacking"
   ]
  },
  {
   "cell_type": "code",
   "execution_count": 39,
   "id": "6b71d1eb",
   "metadata": {},
   "outputs": [
    {
     "data": {
      "text/plain": [
       "array([[10, 30],\n",
       "       [20, 50],\n",
       "       [30, 90]])"
      ]
     },
     "execution_count": 39,
     "metadata": {},
     "output_type": "execute_result"
    }
   ],
   "source": [
    "np.column_stack((a,b))  \n",
    "#joining numpy as column stacking"
   ]
  },
  {
   "cell_type": "code",
   "execution_count": 41,
   "id": "bf77723c",
   "metadata": {},
   "outputs": [
    {
     "data": {
      "text/plain": [
       "array([[10, 20, 30],\n",
       "       [30, 50, 90]])"
      ]
     },
     "execution_count": 41,
     "metadata": {},
     "output_type": "execute_result"
    }
   ],
   "source": [
    "np.row_stack((a,b)) \n",
    "#joining numpy as row stacking"
   ]
  },
  {
   "cell_type": "code",
   "execution_count": 42,
   "id": "bb26b8d6",
   "metadata": {},
   "outputs": [],
   "source": [
    "#NUMPY INTERSECTION AND DIFFERENCE"
   ]
  },
  {
   "cell_type": "code",
   "execution_count": 43,
   "id": "de8a8e5e",
   "metadata": {},
   "outputs": [],
   "source": [
    "import numpy as np"
   ]
  },
  {
   "cell_type": "code",
   "execution_count": 44,
   "id": "d1b93d5e",
   "metadata": {},
   "outputs": [],
   "source": [
    "x=np.array([10,20,30,40,50])"
   ]
  },
  {
   "cell_type": "code",
   "execution_count": 45,
   "id": "a25ebff6",
   "metadata": {},
   "outputs": [],
   "source": [
    "y=np.array([30,50,80,90,100,120,150,200])"
   ]
  },
  {
   "cell_type": "code",
   "execution_count": 46,
   "id": "ad04a560",
   "metadata": {},
   "outputs": [
    {
     "data": {
      "text/plain": [
       "array([30, 50])"
      ]
     },
     "execution_count": 46,
     "metadata": {},
     "output_type": "execute_result"
    }
   ],
   "source": [
    "np.intersect1d(x,y)"
   ]
  },
  {
   "cell_type": "code",
   "execution_count": null,
   "id": "3adade1c",
   "metadata": {},
   "outputs": [],
   "source": []
  }
 ],
 "metadata": {
  "kernelspec": {
   "display_name": "Python 3 (ipykernel)",
   "language": "python",
   "name": "python3"
  },
  "language_info": {
   "codemirror_mode": {
    "name": "ipython",
    "version": 3
   },
   "file_extension": ".py",
   "mimetype": "text/x-python",
   "name": "python",
   "nbconvert_exporter": "python",
   "pygments_lexer": "ipython3",
   "version": "3.11.5"
  }
 },
 "nbformat": 4,
 "nbformat_minor": 5
}
